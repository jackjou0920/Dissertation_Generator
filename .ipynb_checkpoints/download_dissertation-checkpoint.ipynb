{
 "cells": [
  {
   "cell_type": "code",
   "execution_count": 13,
   "metadata": {},
   "outputs": [],
   "source": [
    "import argparse, logging, six, sys, os\n",
    "import pdfminer.settings\n",
    "pdfminer.settings.STRICT = False\n",
    "import pdfminer.high_level\n",
    "import pdfminer.layout\n",
    "from pdfminer.image import ImageWriter\n",
    "from pdfminer.pdfinterp import PDFResourceManager, PDFPageInterpreter\n",
    "from pdfminer.converter import TextConverter\n",
    "from pdfminer.pdfpage import PDFPage\n",
    "from io import StringIO"
   ]
  },
  {
   "cell_type": "code",
   "execution_count": 14,
   "metadata": {},
   "outputs": [],
   "source": [
    "def convert_pdf_to_txt(files=[], outfile='-',\n",
    "            _py2_no_more_posargs=None,  # Bloody Python2 needs a shim\n",
    "            no_laparams=False, all_texts=None, detect_vertical=None, # LAParams\n",
    "            word_margin=None, char_margin=None, line_margin=None, boxes_flow=None, # LAParams\n",
    "            output_type='text', codec='utf-8', strip_control=False,\n",
    "            maxpages=0, page_numbers=None, password=\"\", scale=1.0, rotation=0,\n",
    "            layoutmode='normal', output_dir=None, debug=False,\n",
    "            disable_caching=False, **other):\n",
    "\n",
    "    # If any LAParams group arguments were passed, create an LAParams object and\n",
    "    # populate with given args. Otherwise, set it to None.\n",
    "    if not no_laparams:\n",
    "        laparams = pdfminer.layout.LAParams()\n",
    "        for param in (\"all_texts\", \"detect_vertical\", \"word_margin\", \"char_margin\", \"line_margin\", \"boxes_flow\"):\n",
    "            paramv = locals().get(param, None)\n",
    "            if paramv is not None:\n",
    "                setattr(laparams, param, paramv)\n",
    "    else:\n",
    "        laparams = None\n",
    "    \n",
    "    with open('./previous/acp11vl.pdf', \"rb\") as fp:\n",
    "        rsrcmgr = PDFResourceManager()\n",
    "        retstr = StringIO()\n",
    "        device = TextConverter(rsrcmgr, retstr, codec=codec, laparams=laparams)\n",
    "        interpreter = PDFPageInterpreter(rsrcmgr, device)\n",
    "        pagenos=set()\n",
    "\n",
    "            # for page in PDFPage.get_pages(fp, pagenos, maxpages=1, password=password, caching=True, check_extractable=True):\n",
    "            #     interpreter.process_page(page)\n",
    "            # head = retstr.getvalue()\n",
    "\n",
    "        for page in PDFPage.get_pages(fp, pagenos, maxpages=maxpages, password=password, caching=True, check_extractable=True):\n",
    "            interpreter.process_page(page)\n",
    "        str = retstr.getvalue()\n",
    "\n",
    "            # preprocessing(fname, head, str)\n",
    "        print(str)\n",
    "        device.close()\n",
    "        retstr.close()"
   ]
  },
  {
   "cell_type": "code",
   "execution_count": 23,
   "metadata": {},
   "outputs": [],
   "source": [
    "convert_pdf_to_txt(files=[], outfile='-',\n",
    "                _py2_no_more_posargs=None,  # Bloody Python2 needs a shim\n",
    "                no_laparams=False, all_texts=None, detect_vertical=None, # LAParams\n",
    "                word_margin=None, char_margin=None, line_margin=None, boxes_flow=None, # LAParams\n",
    "                output_type='text', codec='utf-8', strip_control=False,\n",
    "                maxpages=0, page_numbers=None, password=\"\", scale=1.0, rotation=0,\n",
    "                layoutmode='normal', output_dir=None, debug=False,\n",
    "                disable_caching=False)"
   ]
  },
  {
   "cell_type": "code",
   "execution_count": null,
   "metadata": {},
   "outputs": [],
   "source": []
  }
 ],
 "metadata": {
  "kernelspec": {
   "display_name": "Python 3",
   "language": "python",
   "name": "python3"
  },
  "language_info": {
   "codemirror_mode": {
    "name": "ipython",
    "version": 3
   },
   "file_extension": ".py",
   "mimetype": "text/x-python",
   "name": "python",
   "nbconvert_exporter": "python",
   "pygments_lexer": "ipython3",
   "version": "3.6.5"
  }
 },
 "nbformat": 4,
 "nbformat_minor": 2
}
